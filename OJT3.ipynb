{
  "nbformat": 4,
  "nbformat_minor": 0,
  "metadata": {
    "colab": {
      "provenance": [],
      "authorship_tag": "ABX9TyNUUH57LhVDpOnrmhRWaE/7",
      "include_colab_link": true
    },
    "kernelspec": {
      "name": "python3",
      "display_name": "Python 3"
    },
    "language_info": {
      "name": "python"
    }
  },
  "cells": [
    {
      "cell_type": "markdown",
      "metadata": {
        "id": "view-in-github",
        "colab_type": "text"
      },
      "source": [
        "<a href=\"https://colab.research.google.com/github/Sittii/SHRISTI_OJT/blob/OJT__12345/OJT3.ipynb\" target=\"_parent\"><img src=\"https://colab.research.google.com/assets/colab-badge.svg\" alt=\"Open In Colab\"/></a>"
      ]
    },
    {
      "cell_type": "code",
      "execution_count": null,
      "metadata": {
        "id": "IZhxQLi9v5z8"
      },
      "outputs": [],
      "source": []
    },
    {
      "cell_type": "code",
      "execution_count": 1,
      "metadata": {
        "id": "0uTStX8TJNUx"
      },
      "outputs": [],
      "source": [
        "import numpy as np\n",
        "import sympy as sp\n",
        "import scipy.linalg"
      ]
    },
    {
      "cell_type": "code",
      "source": [
        "#Q3. Singular Value Decomposition (SVD):\n",
        "#Perform Singular Value Decomposition on the matrix A obtained in Question 2. Separate and print matrices U, Σ, and 񑉠. Verify that A equals the product of U, Σ, and 񑉠. Additionally, find the rank 2 and rank 3 approximations of matrix A."
      ],
      "metadata": {
        "id": "xUXNMsOF8ESV"
      },
      "execution_count": 2,
      "outputs": []
    },
    {
      "cell_type": "code",
      "execution_count": 3,
      "metadata": {
        "colab": {
          "base_uri": "https://localhost:8080/",
          "height": 119
        },
        "id": "d7mVPYbdSOH8",
        "outputId": "ad2b08cb-a4af-4870-afba-2e17425ed130"
      },
      "outputs": [
        {
          "output_type": "execute_result",
          "data": {
            "text/plain": [
              "Matrix([\n",
              "[3, 6, 8, 9, 6],\n",
              "[8, 7, 9, 3, 6],\n",
              "[1, 2, 5, 5, 0],\n",
              "[5, 0, 9, 9, 3],\n",
              "[1, 7, 4, 1, 1]])"
            ],
            "text/latex": "$\\displaystyle \\left[\\begin{matrix}3 & 6 & 8 & 9 & 6\\\\8 & 7 & 9 & 3 & 6\\\\1 & 2 & 5 & 5 & 0\\\\5 & 0 & 9 & 9 & 3\\\\1 & 7 & 4 & 1 & 1\\end{matrix}\\right]$"
          },
          "metadata": {},
          "execution_count": 3
        }
      ],
      "source": [
        "#PERFORMING SVD ON MATRIX A\n",
        "np.random.seed(23)\n",
        "D= np.random.randint(0,10,(5,5))\n",
        "sp.Matrix(D)"
      ]
    },
    {
      "cell_type": "code",
      "execution_count": 4,
      "metadata": {
        "colab": {
          "base_uri": "https://localhost:8080/",
          "height": 119
        },
        "id": "M7ZtaCICSOF8",
        "outputId": "655f4074-0dda-473a-ced7-0254c8270440"
      },
      "outputs": [
        {
          "output_type": "execute_result",
          "data": {
            "text/plain": [
              "Matrix([\n",
              "[-1.0,    0,    0, -1.0,    0],\n",
              "[-1.0, -1.0, -1.0,    0,    0],\n",
              "[   0,    0,    0,  1.0, -1.0],\n",
              "[   0,  1.0,    0,    0,    0],\n",
              "[   0, -1.0,    0,    0,    0]])"
            ],
            "text/latex": "$\\displaystyle \\left[\\begin{matrix}-1.0 & 0 & 0 & -1.0 & 0\\\\-1.0 & -1.0 & -1.0 & 0 & 0\\\\0 & 0 & 0 & 1.0 & -1.0\\\\0 & 1.0 & 0 & 0 & 0\\\\0 & -1.0 & 0 & 0 & 0\\end{matrix}\\right]$"
          },
          "metadata": {},
          "execution_count": 4
        }
      ],
      "source": [
        "U,S,VT=np.linalg.svd(D)\n",
        "sp.Matrix(np.round(U))"
      ]
    },
    {
      "cell_type": "code",
      "execution_count": 5,
      "metadata": {
        "colab": {
          "base_uri": "https://localhost:8080/",
          "height": 119
        },
        "id": "qy1Y71YFSOAA",
        "outputId": "82e499b4-7505-4535-e203-62a9fb61ffad"
      },
      "outputs": [
        {
          "output_type": "execute_result",
          "data": {
            "text/plain": [
              "Matrix([\n",
              "[0, 0, 0, 0, 0],\n",
              "[0, 0, 0, 0, 0],\n",
              "[0, 0, 0, 0, 0],\n",
              "[0, 0, 0, 0, 0],\n",
              "[0, 0, 0, 0, 0]])"
            ],
            "text/latex": "$\\displaystyle \\left[\\begin{matrix}0 & 0 & 0 & 0 & 0\\\\0 & 0 & 0 & 0 & 0\\\\0 & 0 & 0 & 0 & 0\\\\0 & 0 & 0 & 0 & 0\\\\0 & 0 & 0 & 0 & 0\\end{matrix}\\right]$"
          },
          "metadata": {},
          "execution_count": 5
        }
      ],
      "source": [
        "\n",
        "#creating sigma\n",
        "sigma = np.zeros((D.shape[0], D.shape[1]))\n",
        "sp.Matrix(sigma)"
      ]
    },
    {
      "cell_type": "code",
      "execution_count": 6,
      "metadata": {
        "colab": {
          "base_uri": "https://localhost:8080/",
          "height": 119
        },
        "id": "pUz6VSuKSN7u",
        "outputId": "a29d4581-28f4-46cc-be2c-45e390910dd5"
      },
      "outputs": [
        {
          "output_type": "execute_result",
          "data": {
            "text/plain": [
              "Matrix([\n",
              "[26.0,   0,   0,   0, 0],\n",
              "[   0, 9.0,   0,   0, 0],\n",
              "[   0,   0, 5.0,   0, 0],\n",
              "[   0,   0,   0, 3.0, 0],\n",
              "[   0,   0,   0,   0, 0]])"
            ],
            "text/latex": "$\\displaystyle \\left[\\begin{matrix}26.0 & 0 & 0 & 0 & 0\\\\0 & 9.0 & 0 & 0 & 0\\\\0 & 0 & 5.0 & 0 & 0\\\\0 & 0 & 0 & 3.0 & 0\\\\0 & 0 & 0 & 0 & 0\\end{matrix}\\right]$"
          },
          "metadata": {},
          "execution_count": 6
        }
      ],
      "source": [
        "sigma[:D.shape[1], :D.shape[0]] = np.diag(S)\n",
        "sp.Matrix(np.round(sigma))"
      ]
    },
    {
      "cell_type": "code",
      "execution_count": 7,
      "metadata": {
        "colab": {
          "base_uri": "https://localhost:8080/",
          "height": 119
        },
        "id": "-Hi1Dfv9SN56",
        "outputId": "b75c5927-6e19-4223-894d-ddf4e03d0154"
      },
      "outputs": [
        {
          "output_type": "execute_result",
          "data": {
            "text/plain": [
              "Matrix([\n",
              "[   0,    0, -1.0,   0,    0],\n",
              "[   0, -1.0,    0, 1.0,    0],\n",
              "[-1.0,    0,    0,   0,    0],\n",
              "[   0,    0,    0,   0, -1.0],\n",
              "[-1.0,    0,  1.0,   0,    0]])"
            ],
            "text/latex": "$\\displaystyle \\left[\\begin{matrix}0 & 0 & -1.0 & 0 & 0\\\\0 & -1.0 & 0 & 1.0 & 0\\\\-1.0 & 0 & 0 & 0 & 0\\\\0 & 0 & 0 & 0 & -1.0\\\\-1.0 & 0 & 1.0 & 0 & 0\\end{matrix}\\right]$"
          },
          "metadata": {},
          "execution_count": 7
        }
      ],
      "source": [
        "sp.Matrix(np.round(VT))"
      ]
    },
    {
      "cell_type": "code",
      "execution_count": 8,
      "metadata": {
        "id": "6ZVPiw5YX1zy",
        "colab": {
          "base_uri": "https://localhost:8080/",
          "height": 119
        },
        "outputId": "73fc745c-b358-46f6-f948-fe81741aaa1a"
      },
      "outputs": [
        {
          "output_type": "execute_result",
          "data": {
            "text/plain": [
              "Matrix([\n",
              "[3.0, 6.0, 8.0, 9.0, 6.0],\n",
              "[8.0, 7.0, 9.0, 3.0, 6.0],\n",
              "[1.0, 2.0, 5.0, 5.0,   0],\n",
              "[5.0,   0, 9.0, 9.0, 3.0],\n",
              "[1.0, 7.0, 4.0, 1.0, 1.0]])"
            ],
            "text/latex": "$\\displaystyle \\left[\\begin{matrix}3.0 & 6.0 & 8.0 & 9.0 & 6.0\\\\8.0 & 7.0 & 9.0 & 3.0 & 6.0\\\\1.0 & 2.0 & 5.0 & 5.0 & 0\\\\5.0 & 0 & 9.0 & 9.0 & 3.0\\\\1.0 & 7.0 & 4.0 & 1.0 & 1.0\\end{matrix}\\right]$"
          },
          "metadata": {},
          "execution_count": 8
        }
      ],
      "source": [
        "sp.Matrix(np.round(U@sigma@VT))"
      ]
    },
    {
      "cell_type": "code",
      "execution_count": null,
      "metadata": {
        "id": "_i47hJVPSNzu"
      },
      "outputs": [],
      "source": [
        "#FINDING RANK 2 & RANK 3 APPROXIMATIONS\n"
      ]
    },
    {
      "cell_type": "code",
      "source": [
        "Uk = U[:,:2]\n",
        "# Choose all rows and first 2 columns\n",
        "sigmak = sigma[:2,:2] # Choose first 2 rows and 2 columns\n",
        "VTk = VT[:2,:] # Choose first 2 rows and all columns\n",
        "Ak = Uk@sigmak@VTk\n",
        "sp.Matrix(Ak)\n"
      ],
      "metadata": {
        "colab": {
          "base_uri": "https://localhost:8080/",
          "height": 119
        },
        "id": "LQUxGgz_5v5k",
        "outputId": "2d88a790-71fd-4477-9b75-0ad4c13cb345"
      },
      "execution_count": 9,
      "outputs": [
        {
          "output_type": "execute_result",
          "data": {
            "text/plain": [
              "Matrix([\n",
              "[5.08387802650292,  4.88226280026744, 9.24245507697319,  7.62635838860567, 4.68980857903845],\n",
              "[5.63098397804597,  8.58918990963305, 8.70700384289062,  4.29972483758293, 5.37754007889905],\n",
              "[2.11343330532196, 0.978581706242593, 4.34768214002769,  4.54048235468871, 1.88914708151512],\n",
              "[3.85807745022661, 0.678371692630583,  8.4695890161891,  9.73306446143391, 3.38489704515974],\n",
              "[2.74681289006689,  5.64396499918926, 3.54797195833619, 0.201852113041662, 2.70683859241852]])"
            ],
            "text/latex": "$\\displaystyle \\left[\\begin{matrix}5.08387802650292 & 4.88226280026744 & 9.24245507697319 & 7.62635838860567 & 4.68980857903845\\\\5.63098397804597 & 8.58918990963305 & 8.70700384289062 & 4.29972483758293 & 5.37754007889905\\\\2.11343330532196 & 0.978581706242593 & 4.34768214002769 & 4.54048235468871 & 1.88914708151512\\\\3.85807745022661 & 0.678371692630583 & 8.4695890161891 & 9.73306446143391 & 3.38489704515974\\\\2.74681289006689 & 5.64396499918926 & 3.54797195833619 & 0.201852113041662 & 2.70683859241852\\end{matrix}\\right]$"
          },
          "metadata": {},
          "execution_count": 9
        }
      ]
    },
    {
      "cell_type": "code",
      "source": [
        "np.linalg.norm(D-Ak)"
      ],
      "metadata": {
        "colab": {
          "base_uri": "https://localhost:8080/"
        },
        "id": "nak5CF-W6kLW",
        "outputId": "79b0d9b5-0550-4915-86ac-1cd39622fbce"
      },
      "execution_count": 10,
      "outputs": [
        {
          "output_type": "execute_result",
          "data": {
            "text/plain": [
              "6.237298731635087"
            ]
          },
          "metadata": {},
          "execution_count": 10
        }
      ]
    },
    {
      "cell_type": "code",
      "source": [
        "Uk1 = U[:,:3]\n",
        "# Choose all rows and first 3 columns\n",
        "sigmak1 = sigma[:3,:3] # Choose first 3 rows and 3 columns\n",
        "VTk1 = VT[:3,:] # Choose first 3 rows and all columns\n",
        "Ak1 = Uk1@sigmak1@VTk1\n",
        "sp.Matrix(Ak1)"
      ],
      "metadata": {
        "colab": {
          "base_uri": "https://localhost:8080/",
          "height": 119
        },
        "id": "53auYD2-6kBt",
        "outputId": "e3d125f3-2e15-4bc0-fa74-a07ef8791a74"
      },
      "execution_count": 11,
      "outputs": [
        {
          "output_type": "execute_result",
          "data": {
            "text/plain": [
              "Matrix([\n",
              "[ 3.28649309014929,    6.10338859335705, 9.04102141494746,  8.6139531605092, 4.15797848194506],\n",
              "[ 7.98121120873307,    6.99246845449734,  8.9703947660561, 3.00836421756979, 6.07295125710976],\n",
              "[0.747393912901245,    1.90665554436292, 4.19458954882964, 5.29106912933138, 1.48494826577431],\n",
              "[ 4.90506073653124, -0.0329385392410603, 8.58692485959943, 9.15778690184641, 3.69469001802184],\n",
              "[0.835974486772739,    6.94216997103151, 3.33382352005239, 1.25178525695364,  2.1414386310639]])"
            ],
            "text/latex": "$\\displaystyle \\left[\\begin{matrix}3.28649309014929 & 6.10338859335705 & 9.04102141494746 & 8.6139531605092 & 4.15797848194506\\\\7.98121120873307 & 6.99246845449734 & 8.9703947660561 & 3.00836421756979 & 6.07295125710976\\\\0.747393912901245 & 1.90665554436292 & 4.19458954882964 & 5.29106912933138 & 1.48494826577431\\\\4.90506073653124 & -0.0329385392410603 & 8.58692485959943 & 9.15778690184641 & 3.69469001802184\\\\0.835974486772739 & 6.94216997103151 & 3.33382352005239 & 1.25178525695364 & 2.1414386310639\\end{matrix}\\right]$"
          },
          "metadata": {},
          "execution_count": 11
        }
      ]
    },
    {
      "cell_type": "code",
      "source": [
        "np.linalg.norm(D-Ak1)"
      ],
      "metadata": {
        "colab": {
          "base_uri": "https://localhost:8080/"
        },
        "id": "Ks6QXh2K65y6",
        "outputId": "df66c605-77a4-4489-8b57-53835218467a"
      },
      "execution_count": 12,
      "outputs": [
        {
          "output_type": "execute_result",
          "data": {
            "text/plain": [
              "3.203870524533028"
            ]
          },
          "metadata": {},
          "execution_count": 12
        }
      ]
    }
  ]
}