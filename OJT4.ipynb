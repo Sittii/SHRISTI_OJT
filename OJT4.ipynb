{
  "nbformat": 4,
  "nbformat_minor": 0,
  "metadata": {
    "colab": {
      "provenance": [],
      "authorship_tag": "ABX9TyNOKNzi6pwuP/mjT9mkABih",
      "include_colab_link": true
    },
    "kernelspec": {
      "name": "python3",
      "display_name": "Python 3"
    },
    "language_info": {
      "name": "python"
    }
  },
  "cells": [
    {
      "cell_type": "markdown",
      "metadata": {
        "id": "view-in-github",
        "colab_type": "text"
      },
      "source": [
        "<a href=\"https://colab.research.google.com/github/Sittii/SHRISTI_OJT/blob/main/OJT4.ipynb\" target=\"_parent\"><img src=\"https://colab.research.google.com/assets/colab-badge.svg\" alt=\"Open In Colab\"/></a>"
      ]
    },
    {
      "cell_type": "code",
      "execution_count": null,
      "metadata": {
        "id": "kjWwaiFLv-Lt"
      },
      "outputs": [],
      "source": []
    },
    {
      "cell_type": "code",
      "execution_count": 3,
      "metadata": {
        "id": "0uTStX8TJNUx"
      },
      "outputs": [],
      "source": [
        "import numpy as np\n",
        "import scipy.linalg\n",
        "import matplotlib.pyplot as plt\n",
        "p=np.pi"
      ]
    },
    {
      "cell_type": "code",
      "source": [],
      "metadata": {
        "id": "pAzaJvuLwUKQ"
      },
      "execution_count": null,
      "outputs": []
    },
    {
      "cell_type": "code",
      "source": [
        "#Q4. Polynomial Plotting with Annotations:\n",
        "#Randomly select the coefficients of a 5th degree polynomial. Set the random seed as the last two digits of your roll number. Plot the polynomial for -5 ≤ x ≤ 5. Annotate the plot to identify the maxima and minima of the polynomial"
      ],
      "metadata": {
        "id": "kH3rFxew7T5F"
      },
      "execution_count": 4,
      "outputs": []
    },
    {
      "cell_type": "code",
      "execution_count": 5,
      "metadata": {
        "colab": {
          "base_uri": "https://localhost:8080/"
        },
        "id": "vzxvPheKbYn9",
        "outputId": "05eeaf6d-fb83-4c21-e02f-9523d67fb378"
      },
      "outputs": [
        {
          "output_type": "execute_result",
          "data": {
            "text/plain": [
              "array([ 0.66698806,  0.02581308, -0.77761941,  0.94863382,  0.70167179,\n",
              "       -1.05108156])"
            ]
          },
          "metadata": {},
          "execution_count": 5
        }
      ],
      "source": [
        "np.random.seed(23)\n",
        "C = np.random.randn(6)\n",
        "C"
      ]
    },
    {
      "cell_type": "code",
      "execution_count": 6,
      "metadata": {
        "id": "uYwHhykTbYkE"
      },
      "outputs": [],
      "source": [
        "\n",
        "X = np.arange(-5, 5, 0.1)\n",
        "Y=C[0] + C[1]*X + C[2]*X**2 + C[3]*X**3 + C[4]*X**4 + C[5]*X**5"
      ]
    },
    {
      "cell_type": "code",
      "execution_count": 7,
      "metadata": {
        "id": "cyS0JyS2bYdx"
      },
      "outputs": [],
      "source": [
        "\n",
        "\n",
        "# Find the minima and maxima points\n",
        "minindex = np.argmin(Y)\n",
        "maxindex = np.argmax(Y)\n",
        "minpt = (X[minindex], Y[minindex])\n",
        "maxipt = (X[maxindex], Y[maxindex])"
      ]
    },
    {
      "cell_type": "code",
      "execution_count": 8,
      "metadata": {
        "colab": {
          "base_uri": "https://localhost:8080/",
          "height": 430
        },
        "id": "1xpQSxdUbYcE",
        "outputId": "68f6b42d-3a02-4675-d049-cdaaad2a27f3"
      },
      "outputs": [
        {
          "output_type": "display_data",
          "data": {
            "text/plain": [
              "<Figure size 640x480 with 1 Axes>"
            ],
            "image/png": "[encoded data removed]"
          },
          "metadata": {}
        }
      ],
      "source": [
        "# Plot the polynomial function\n",
        "plt.plot(X, Y, color=\"blue\")\n",
        "\n",
        "plt.annotate(\"minima\", xy=minpt, xytext=(2.5, -1000), arrowprops=dict(facecolor=\"red\", shrink=1))\n",
        "plt.annotate(\"maxima\", xy=maxipt, xytext=(-3.5,3000), arrowprops=dict(facecolor=\"black\", shrink=1))\n",
        "\n",
        "plt.show()"
      ]
    }
  ]
}