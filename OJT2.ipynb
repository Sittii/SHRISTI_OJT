{
  "nbformat": 4,
  "nbformat_minor": 0,
  "metadata": {
    "colab": {
      "provenance": [],
      "authorship_tag": "ABX9TyNVG5X6zcMfI6I3dcRKRsNI",
      "include_colab_link": true
    },
    "kernelspec": {
      "name": "python3",
      "display_name": "Python 3"
    },
    "language_info": {
      "name": "python"
    }
  },
  "cells": [
    {
      "cell_type": "markdown",
      "metadata": {
        "id": "view-in-github",
        "colab_type": "text"
      },
      "source": [
        "<a href=\"https://colab.research.google.com/github/Sittii/SHRISTI_OJT/blob/main/OJT2.ipynb\" target=\"_parent\"><img src=\"https://colab.research.google.com/assets/colab-badge.svg\" alt=\"Open In Colab\"/></a>"
      ]
    },
    {
      "cell_type": "code",
      "execution_count": null,
      "metadata": {
        "id": "1ZK0YIlLv7fH"
      },
      "outputs": [],
      "source": []
    },
    {
      "cell_type": "code",
      "execution_count": null,
      "metadata": {
        "id": "0uTStX8TJNUx"
      },
      "outputs": [],
      "source": [
        "import numpy as np\n",
        "import sympy as sp\n",
        "import scipy.linalg"
      ]
    },
    {
      "cell_type": "code",
      "execution_count": null,
      "metadata": {
        "id": "WbueGglIt22S"
      },
      "outputs": [],
      "source": [
        "#QUESTION 2:Row Echelon Form:\n",
        "# Create a 5x5 matrix, A, with entries randomly chosen integers between 0 and 9. To generate the random matrix, set the random seed as the last two digits of your roll number. Reduce matrix A to its Row Echelon Form by performing elementary row operations."
      ]
    },
    {
      "cell_type": "code",
      "source": [],
      "metadata": {
        "id": "i7GAZdbZwSqy"
      },
      "execution_count": null,
      "outputs": []
    },
    {
      "cell_type": "code",
      "execution_count": null,
      "metadata": {
        "colab": {
          "base_uri": "https://localhost:8080/"
        },
        "id": "t8DQhcs1JeYa",
        "outputId": "b0d77513-cb63-4bc5-f7b7-d29b0d7a4028"
      },
      "outputs": [
        {
          "output_type": "execute_result",
          "data": {
            "text/plain": [
              "array([[3, 6, 8, 9, 6],\n",
              "       [8, 7, 9, 3, 6],\n",
              "       [1, 2, 5, 5, 0],\n",
              "       [5, 0, 9, 9, 3],\n",
              "       [1, 7, 4, 1, 1]])"
            ]
          },
          "metadata": {},
          "execution_count": 3
        }
      ],
      "source": [
        "\n",
        "# create random matrix\n",
        "np.random.seed(23)\n",
        "A= np.random.randint(0,10,(5,5))\n",
        "A"
      ]
    },
    {
      "cell_type": "code",
      "execution_count": null,
      "metadata": {
        "colab": {
          "base_uri": "https://localhost:8080/"
        },
        "id": "r7AFjtp_JejK",
        "outputId": "3d7759a4-f9e3-4f23-f59b-7a2fcb0efa05"
      },
      "outputs": [
        {
          "output_type": "execute_result",
          "data": {
            "text/plain": [
              "array([1, 2, 2, 3, 2])"
            ]
          },
          "metadata": {},
          "execution_count": 4
        }
      ],
      "source": [
        "#ROW ECHLON FORM THROUGH ROW TRANSFORMATIONS\n",
        "A[0]=A[0]/3\n",
        "A[0]"
      ]
    },
    {
      "cell_type": "code",
      "execution_count": null,
      "metadata": {
        "colab": {
          "base_uri": "https://localhost:8080/"
        },
        "id": "XBD7EZs9MVJ2",
        "outputId": "fd6dab70-9585-4908-8672-4c5c9418059f"
      },
      "outputs": [
        {
          "output_type": "execute_result",
          "data": {
            "text/plain": [
              "array([  0,  -9,  -7, -21, -10])"
            ]
          },
          "metadata": {},
          "execution_count": 5
        }
      ],
      "source": [
        "A[1]=A[1]-8*A[0]\n",
        "A[1]"
      ]
    },
    {
      "cell_type": "code",
      "source": [],
      "metadata": {
        "id": "sRGwsb4Aw4Vc"
      },
      "execution_count": null,
      "outputs": []
    },
    {
      "cell_type": "code",
      "execution_count": null,
      "metadata": {
        "colab": {
          "base_uri": "https://localhost:8080/"
        },
        "id": "2WWIaBrEMVg1",
        "outputId": "f81076ee-2dcf-47b8-eb7c-ed3421b27d26"
      },
      "outputs": [
        {
          "output_type": "execute_result",
          "data": {
            "text/plain": [
              "array([ 0,  0,  3,  2, -2])"
            ]
          },
          "metadata": {},
          "execution_count": 6
        }
      ],
      "source": [
        "A[2]=A[2]-A[0]\n",
        "A[2]"
      ]
    },
    {
      "cell_type": "code",
      "source": [],
      "metadata": {
        "id": "h6B1tRBkw6uD"
      },
      "execution_count": null,
      "outputs": []
    },
    {
      "cell_type": "code",
      "execution_count": null,
      "metadata": {
        "colab": {
          "base_uri": "https://localhost:8080/"
        },
        "id": "VgNPIX3CMVtY",
        "outputId": "1cacaa3c-2f8d-48eb-8d08-b5a8bbbb63c0"
      },
      "outputs": [
        {
          "output_type": "execute_result",
          "data": {
            "text/plain": [
              "array([  0, -10,  -1,  -6,  -7])"
            ]
          },
          "metadata": {},
          "execution_count": 7
        }
      ],
      "source": [
        "A[3]=A[3]-5*A[0]\n",
        "A[3]"
      ]
    },
    {
      "cell_type": "code",
      "source": [],
      "metadata": {
        "id": "zDusiolNw6rL"
      },
      "execution_count": null,
      "outputs": []
    },
    {
      "cell_type": "code",
      "execution_count": null,
      "metadata": {
        "colab": {
          "base_uri": "https://localhost:8080/"
        },
        "id": "TLDTnrEBMV4C",
        "outputId": "db4a8494-eecc-4935-e51a-81e6f5f932e3"
      },
      "outputs": [
        {
          "output_type": "execute_result",
          "data": {
            "text/plain": [
              "array([ 0,  5,  2, -2, -1])"
            ]
          },
          "metadata": {},
          "execution_count": 8
        }
      ],
      "source": [
        "A[4]=A[4]-A[0]\n",
        "A[4]"
      ]
    },
    {
      "cell_type": "code",
      "execution_count": null,
      "metadata": {
        "colab": {
          "base_uri": "https://localhost:8080/"
        },
        "id": "uAJ5-Dz3PMTp",
        "outputId": "ffce8a6a-7f13-489f-ef46-5628e314c112"
      },
      "outputs": [
        {
          "output_type": "execute_result",
          "data": {
            "text/plain": [
              "array([0, 1, 0, 2, 1])"
            ]
          },
          "metadata": {},
          "execution_count": 9
        }
      ],
      "source": [
        "A[1]=A[1]/-9\n",
        "A[1]"
      ]
    },
    {
      "cell_type": "code",
      "execution_count": null,
      "metadata": {
        "colab": {
          "base_uri": "https://localhost:8080/"
        },
        "id": "L9hdWQKDMWCw",
        "outputId": "187fe9ee-0810-4ab3-9f92-92ace025fca3"
      },
      "outputs": [
        {
          "output_type": "execute_result",
          "data": {
            "text/plain": [
              "array([[  1,   2,   2,   3,   2],\n",
              "       [  0,   1,   0,   2,   1],\n",
              "       [  0,   0,   3,   2,  -2],\n",
              "       [  0, -10,  -1,  -6,  -7],\n",
              "       [  0,   5,   2,  -2,  -1]])"
            ]
          },
          "metadata": {},
          "execution_count": 10
        }
      ],
      "source": [
        "A"
      ]
    },
    {
      "cell_type": "code",
      "source": [],
      "metadata": {
        "id": "arx6bgHKxXaj"
      },
      "execution_count": null,
      "outputs": []
    },
    {
      "cell_type": "code",
      "execution_count": null,
      "metadata": {
        "colab": {
          "base_uri": "https://localhost:8080/"
        },
        "id": "jfzTXaXGPMGO",
        "outputId": "83bddfa0-a72a-4150-e644-7b51cfbccb8d"
      },
      "outputs": [
        {
          "output_type": "execute_result",
          "data": {
            "text/plain": [
              "array([ 0,  0, -1, 14,  3])"
            ]
          },
          "metadata": {},
          "execution_count": 11
        }
      ],
      "source": [
        "A[3]=A[3]+10*A[1]\n",
        "A[3]"
      ]
    },
    {
      "cell_type": "code",
      "execution_count": null,
      "metadata": {
        "colab": {
          "base_uri": "https://localhost:8080/"
        },
        "id": "bbXLrGcjJe1x",
        "outputId": "4637fc28-9d08-4abd-80d2-2187e4e4cd47"
      },
      "outputs": [
        {
          "output_type": "execute_result",
          "data": {
            "text/plain": [
              "array([  0,   0,   2, -12,  -6])"
            ]
          },
          "metadata": {},
          "execution_count": 12
        }
      ],
      "source": [
        "A[4]=A[4]-5*A[1]\n",
        "A[4]"
      ]
    },
    {
      "cell_type": "code",
      "execution_count": null,
      "metadata": {
        "colab": {
          "base_uri": "https://localhost:8080/"
        },
        "id": "1ooQc_VjJe-I",
        "outputId": "6ce5b9bc-69d9-46ac-8855-3f2e2583a8c2"
      },
      "outputs": [
        {
          "output_type": "execute_result",
          "data": {
            "text/plain": [
              "array([[  1,   2,   2,   3,   2],\n",
              "       [  0,   1,   0,   2,   1],\n",
              "       [  0,   0,   3,   2,  -2],\n",
              "       [  0,   0,  -1,  14,   3],\n",
              "       [  0,   0,   2, -12,  -6]])"
            ]
          },
          "metadata": {},
          "execution_count": 13
        }
      ],
      "source": [
        "A"
      ]
    },
    {
      "cell_type": "code",
      "execution_count": null,
      "metadata": {
        "colab": {
          "base_uri": "https://localhost:8080/"
        },
        "id": "Ni1G4MSyJflG",
        "outputId": "f790a869-56d0-446b-b4d8-20de054359fa"
      },
      "outputs": [
        {
          "output_type": "execute_result",
          "data": {
            "text/plain": [
              "array([0, 0, 1, 0, 0])"
            ]
          },
          "metadata": {},
          "execution_count": 14
        }
      ],
      "source": [
        "A[2]=A[2]/3\n",
        "A[2]"
      ]
    },
    {
      "cell_type": "code",
      "execution_count": null,
      "metadata": {
        "colab": {
          "base_uri": "https://localhost:8080/"
        },
        "id": "6p7TYTJ9SOcy",
        "outputId": "9b50cdc8-fab9-480a-f66f-dc86da35e7de"
      },
      "outputs": [
        {
          "output_type": "execute_result",
          "data": {
            "text/plain": [
              "array([ 0,  0,  0, 14,  3])"
            ]
          },
          "metadata": {},
          "execution_count": 15
        }
      ],
      "source": [
        "A[3]=A[3]+A[2]\n",
        "A[3]"
      ]
    },
    {
      "cell_type": "code",
      "execution_count": null,
      "metadata": {
        "colab": {
          "base_uri": "https://localhost:8080/"
        },
        "id": "hwZilm8ZSOZP",
        "outputId": "91af8321-2296-4e42-81a6-542b0b769dd0"
      },
      "outputs": [
        {
          "output_type": "execute_result",
          "data": {
            "text/plain": [
              "array([  0,   0,   0, -12,  -6])"
            ]
          },
          "metadata": {},
          "execution_count": 16
        }
      ],
      "source": [
        "A[4]=A[4]-2*A[2]\n",
        "A[4]"
      ]
    },
    {
      "cell_type": "code",
      "execution_count": null,
      "metadata": {
        "colab": {
          "base_uri": "https://localhost:8080/"
        },
        "id": "utL3VQvSSOXX",
        "outputId": "f5fe2503-b338-4946-e8a1-58522f0b1baf"
      },
      "outputs": [
        {
          "output_type": "execute_result",
          "data": {
            "text/plain": [
              "array([[  1,   2,   2,   3,   2],\n",
              "       [  0,   1,   0,   2,   1],\n",
              "       [  0,   0,   1,   0,   0],\n",
              "       [  0,   0,   0,  14,   3],\n",
              "       [  0,   0,   0, -12,  -6]])"
            ]
          },
          "metadata": {},
          "execution_count": 17
        }
      ],
      "source": [
        "A"
      ]
    },
    {
      "cell_type": "code",
      "execution_count": null,
      "metadata": {
        "colab": {
          "base_uri": "https://localhost:8080/"
        },
        "id": "eIChULCnSOTi",
        "outputId": "bdea359a-ac07-43a1-8f73-2611c7272eef"
      },
      "outputs": [
        {
          "output_type": "execute_result",
          "data": {
            "text/plain": [
              "array([0, 0, 0, 1, 0])"
            ]
          },
          "metadata": {},
          "execution_count": 18
        }
      ],
      "source": [
        "A[3]=A[3]/14\n",
        "A[3]"
      ]
    },
    {
      "cell_type": "code",
      "execution_count": null,
      "metadata": {
        "colab": {
          "base_uri": "https://localhost:8080/"
        },
        "id": "eCpSoazESORo",
        "outputId": "3ff8c5cd-3187-4cb2-8bc0-90c31a14db50"
      },
      "outputs": [
        {
          "output_type": "execute_result",
          "data": {
            "text/plain": [
              "array([ 0,  0,  0,  0, -6])"
            ]
          },
          "metadata": {},
          "execution_count": 19
        }
      ],
      "source": [
        "A[4]=A[4]+12*A[3]\n",
        "A[4]"
      ]
    },
    {
      "cell_type": "code",
      "execution_count": null,
      "metadata": {
        "colab": {
          "base_uri": "https://localhost:8080/"
        },
        "id": "rKXi3Pl5SONs",
        "outputId": "d91c85d8-5048-4760-aa0f-e78d25734db9"
      },
      "outputs": [
        {
          "output_type": "execute_result",
          "data": {
            "text/plain": [
              "array([[ 1,  2,  2,  3,  2],\n",
              "       [ 0,  1,  0,  2,  1],\n",
              "       [ 0,  0,  1,  0,  0],\n",
              "       [ 0,  0,  0,  1,  0],\n",
              "       [ 0,  0,  0,  0, -6]])"
            ]
          },
          "metadata": {},
          "execution_count": 20
        }
      ],
      "source": [
        "A"
      ]
    },
    {
      "cell_type": "code",
      "execution_count": null,
      "metadata": {
        "colab": {
          "base_uri": "https://localhost:8080/"
        },
        "id": "SaoBeRoSSOLf",
        "outputId": "78dfe451-5198-43e1-db08-cd2d5c63372c"
      },
      "outputs": [
        {
          "output_type": "execute_result",
          "data": {
            "text/plain": [
              "array([[1, 2, 2, 3, 2],\n",
              "       [0, 1, 0, 2, 1],\n",
              "       [0, 0, 1, 0, 0],\n",
              "       [0, 0, 0, 1, 0],\n",
              "       [0, 0, 0, 0, 1]])"
            ]
          },
          "metadata": {},
          "execution_count": 21
        }
      ],
      "source": [
        "A[4]=A[4]/-6\n",
        "A"
      ]
    }
  ]
}